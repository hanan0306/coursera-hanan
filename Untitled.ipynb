{
  "metadata": {
    "kernelspec": {
      "name": "python",
      "display_name": "Python (Pyodide)",
      "language": "python"
    },
    "language_info": {
      "codemirror_mode": {
        "name": "python",
        "version": 3
      },
      "file_extension": ".py",
      "mimetype": "text/x-python",
      "name": "python",
      "nbconvert_exporter": "python",
      "pygments_lexer": "ipython3",
      "version": "3.8"
    }
  },
  "nbformat_minor": 5,
  "nbformat": 4,
  "cells": [
    {
      "id": "7ab6551c-3a14-4a44-b66e-e05fb9319151",
      "cell_type": "code",
      "source": "#Final project for data science tools course\n\n##Introduction \nIn this notebook, we will explore various aspects of data science, including popular languages,libraries, \ntools, and examples of arithmetic operations. This is the final project for the Data Science Tools course.\n\n## Data Science Languages\nThe following are some of the most popular languages used in data science:\n1. Python\n2. R\n3. SQL\n4. Java\n5. Julia\n6. Scala\n7. MATLAB\n8. JavaScript\n                                                                       \n## Data Science Libraries\nHere are some commonly used libraries in data science:\n1. Pandas\n2. NumPy\n3. Matplotlib\n4. Seaborn\n5. Scikit-learn\n6. TensorFlow\n7. PyTorch\n8. Keras\n\n## Data Science Tools\n| Tool                | Description                              |\n|---------------------|------------------------------------------|\n| Jupyter Notebooks   | Interactive environment for coding       |\n| RStudio             | Integrated development environment for R|\n| Apache Spark        | Framework for big data processing       |\n| Tableau             | Visualization and business intelligence |\n| MATLAB              | High-level programming for data analysis|  \n\n## Arithmetic Expression Examples\nArithmetic expressions involve mathematical operations such as addition, subtraction,\nmultiplication, and division. Below are examples of how to perform these operations.\n\n# Multiplication and addition example\nresult = (5 * 6) + 10\nprint(result)                                              ",
      "metadata": {
        "trusted": true
      },
      "outputs": [],
      "execution_count": null
    },
    {
      "id": "4c1e1ba5-a154-476a-bc95-181016fb016e",
      "cell_type": "code",
      "source": "# Convert minutes to hours\nminutes = 150\nhours = minutes / 60\nhours",
      "metadata": {
        "trusted": true
      },
      "outputs": [],
      "execution_count": null
    },
    {
      "id": "5818f796-441e-4cd4-a24b-8a750b906ed4",
      "cell_type": "code",
      "source": "## Objectives\n- Understand popular programming languages used in data science.\n- Learn about common libraries and tools.\n- Perform arithmetic operations in Python.\n- Create a public JupyterLite Notebook on GitHub.",
      "metadata": {
        "trusted": true
      },
      "outputs": [],
      "execution_count": null
    },
    {
      "id": "4641bd75-90e9-4b44-b865-e1b792c932a8",
      "cell_type": "code",
      "source": "## Author\nHanan.H",
      "metadata": {
        "trusted": true
      },
      "outputs": [],
      "execution_count": null
    }
  ]
}